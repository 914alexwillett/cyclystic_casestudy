{
 "cells": [
  {
   "cell_type": "code",
   "execution_count": 1,
   "id": "aa1ba79e-0c46-4a60-8a9e-8d70a12780dd",
   "metadata": {},
   "outputs": [],
   "source": [
    "import pandas as pd\n",
    "import numpy as np\n",
    "import matplotlib.pyplot as plt\n",
    "from collections import Counter\n",
    "import datetime as dt\n",
    "import time\n",
    "from math import radians, cos, sin, asin, sqrt"
   ]
  },
  {
   "cell_type": "code",
   "execution_count": 2,
   "id": "cc18c810-f2bd-4ea4-b09e-90b1af1e0805",
   "metadata": {},
   "outputs": [],
   "source": [
    "# functions written specifically to analyze cyclistic bike share data\n",
    "from cyclistic_analysis_functions import *"
   ]
  },
  {
   "cell_type": "code",
   "execution_count": 4,
   "id": "96451436-3c28-44ff-ac8a-fbccb52332aa",
   "metadata": {},
   "outputs": [],
   "source": [
    "# Bikeshare Data from January 2021 (202101) - January 2022 (202201)\n",
    "date_indices = [\n",
    "    '202101', '202102', '202103', '202104', '202105', '202106',\n",
    "    '202107', '202108', '202109', '202110', '202111', '202112', '202201']\n",
    "\n",
    "month_df_dict = {}\n",
    "\n",
    "for index in date_indices:\n",
    "    month_df_dict[index] = load_data(index)"
   ]
  },
  {
   "cell_type": "code",
   "execution_count": 5,
   "id": "1f06f4fb-70c5-4e17-9638-4adae38eade9",
   "metadata": {},
   "outputs": [
    {
     "name": "stdout",
     "output_type": "stream",
     "text": [
      "202101\n",
      "(96834, 17)\n",
      "202102\n",
      "(49622, 17)\n",
      "202103\n",
      "(228496, 17)\n",
      "202104\n",
      "(337230, 17)\n",
      "202105\n",
      "(531633, 17)\n",
      "202106\n",
      "(729595, 17)\n",
      "202107\n",
      "(822410, 17)\n",
      "202108\n",
      "(804352, 17)\n",
      "202109\n",
      "(756147, 17)\n",
      "202110\n",
      "(631226, 17)\n",
      "202111\n",
      "(359978, 17)\n",
      "202112\n",
      "(247540, 17)\n",
      "202201\n",
      "(103770, 17)\n"
     ]
    }
   ],
   "source": [
    "# Generate addition variables\n",
    "for index in month_df_dict:\n",
    "    print(index)\n",
    "    df = month_df_dict[index]\n",
    "    generate_columns_pack(df)\n",
    "    print(df.shape)"
   ]
  },
  {
   "cell_type": "code",
   "execution_count": null,
   "id": "03f60117-3c03-4248-8c77-549897665ebf",
   "metadata": {},
   "outputs": [],
   "source": []
  }
 ],
 "metadata": {
  "kernelspec": {
   "display_name": "Python 3",
   "language": "python",
   "name": "python3"
  },
  "language_info": {
   "codemirror_mode": {
    "name": "ipython",
    "version": 3
   },
   "file_extension": ".py",
   "mimetype": "text/x-python",
   "name": "python",
   "nbconvert_exporter": "python",
   "pygments_lexer": "ipython3",
   "version": "3.8.8"
  }
 },
 "nbformat": 4,
 "nbformat_minor": 5
}
